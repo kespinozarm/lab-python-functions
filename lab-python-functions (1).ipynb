{
 "cells": [
  {
   "cell_type": "markdown",
   "id": "25d7736c-ba17-4aff-b6bb-66eba20fbf4e",
   "metadata": {},
   "source": [
    "# Lab | Functions"
   ]
  },
  {
   "cell_type": "markdown",
   "id": "0c581062-8967-4d93-b06e-62833222f930",
   "metadata": {
    "tags": []
   },
   "source": [
    "## Exercise: Managing Customer Orders with Functions\n",
    "\n",
    "In the previous exercise, you improved the code for managing customer orders by using loops and flow control. Now, let's take it a step further and refactor the code by introducing functions.\n",
    "\n",
    "Follow the steps below to complete the exercise:\n",
    "\n",
    "1. Define a function named `initialize_inventory` that takes `products` as a parameter. Inside the function, implement the code for initializing the inventory dictionary using a loop and user input.\n",
    "\n",
    "2. Define a function named `get_customer_orders` that takes no parameters. Inside the function, implement the code for prompting the user to enter the product names using a loop. The function should return the `customer_orders` set.\n",
    "\n",
    "3. Define a function named `update_inventory` that takes `customer_orders` and `inventory` as parameters. Inside the function, implement the code for updating the inventory dictionary based on the customer orders.\n",
    "\n",
    "4. Define a function named `calculate_order_statistics` that takes `customer_orders` and `products` as parameters. Inside the function, implement the code for calculating the order statistics (total products ordered, and percentage of unique products ordered). The function should return these values.\n",
    "\n",
    "5. Define a function named `print_order_statistics` that takes `order_statistics` as a parameter. Inside the function, implement the code for printing the order statistics.\n",
    "\n",
    "6. Define a function named `print_updated_inventory` that takes `inventory` as a parameter. Inside the function, implement the code for printing the updated inventory.\n",
    "\n",
    "7. Call the functions in the appropriate sequence to execute the program and manage customer orders.\n",
    "\n",
    "Hints for functions:\n",
    "\n",
    "- Consider the input parameters required for each function and their return values.\n",
    "- Utilize function parameters and return values to transfer data between functions.\n",
    "- Test your functions individually to ensure they work correctly.\n",
    "\n",
    "\n"
   ]
  },
  {
   "cell_type": "code",
   "execution_count": 26,
   "id": "5c2af06e-e130-42a3-b5d3-b2341ced810c",
   "metadata": {},
   "outputs": [],
   "source": [
    "products = [\"t-shirt\", \"mug\", \"hat\", \"book\", \"keychain\"]\n",
    "\n",
    "def initialize_inventory(products):\n",
    "    inventory = {}\n",
    "    for product in products:\n",
    "        quantity = int(input(f\"How many of this {product} are: \"))\n",
    "        inventory[product] = quantity\n",
    "    print(\"Inventory:\", inventory)\n",
    "    return products\n"
   ]
  },
  {
   "cell_type": "code",
   "execution_count": 32,
   "id": "439e1454-e297-46b6-8520-40c2c79d5567",
   "metadata": {},
   "outputs": [],
   "source": [
    "def get_customer_orders():\n",
    "    customer_orders = []\n",
    "    order = input(f\"What 3 products do you want to order? {products} :\").split(',')\n",
    "#c. Ask the user if they want to add another product (yes/no).  \n",
    "#d. Continue the loop until the user does not want to add another product.\n",
    "    more_products = input(\"do you want to add another product? Yes/no: \")\n",
    "    while more_products == \"no\":\n",
    "        break\n",
    "    if more_products == \"yes\":\n",
    "        order = input(f\"What products do you want to order? {products} :\").split(',')\n",
    "    print(\"The order is:\", customer_orders)  \n",
    "    return customer_orders"
   ]
  },
  {
   "cell_type": "code",
   "execution_count": 34,
   "id": "9ca65df7-1c56-4075-b0a3-1843d5bd22f1",
   "metadata": {},
   "outputs": [],
   "source": [
    "def update_inventory(customer_orders, inventory):\n",
    "    update_inventory= customer_orders.extend(order)\n",
    "    print(\"The order is:\", customer_orders)\n",
    "    return inventory"
   ]
  },
  {
   "cell_type": "code",
   "execution_count": 92,
   "id": "638cf3be-0f49-4a9e-9d41-90262b7eac20",
   "metadata": {},
   "outputs": [],
   "source": [
    "def calculate_order_statistics(order_statistics):\n",
    "    #Total Products Ordered: The total number of products in the `customer_orders` set.\n",
    "    total_products_ordered = len(customer_orders)\n",
    "    print (\"The total products ordered are:\", total_products_ordered)\n",
    "    \n",
    "    #Percentage of Products Ordered: The percentage of products ordered compared to the total available products.\n",
    "    percentage_prod_ordered= (len(customer_orders)/len(products)) *100\n",
    "    print(\"The percentage of this order on our stock:\", percentage_prod_ordered)\n",
    "    return order_statistics"
   ]
  },
  {
   "cell_type": "code",
   "execution_count": 94,
   "id": "9f2dee02-fd5b-401f-b805-2281c3858891",
   "metadata": {},
   "outputs": [],
   "source": [
    "def print_order_statistics(order_statistics):\n",
    "     #Order Status tuple\n",
    "    order_status = (total_products_ordered, percentage_prod_ordered)\n",
    "    print (\"Order Statistics:\" ,\n",
    "           \"Total Products Ordered:\", total_products_ordered,\n",
    "          \"Percentage of Products Ordered:\", percentage_prod_ordered)\n",
    "    return print_order_statistics"
   ]
  },
  {
   "cell_type": "code",
   "execution_count": 96,
   "id": "dcb60e88-7e56-457d-9dbf-dca45047799e",
   "metadata": {},
   "outputs": [],
   "source": [
    "def print_updated_inventory(inventory):\n",
    "    for item in customer_orders:\n",
    "        if inventory[item] > 0:\n",
    "            inventory[item] -= 1\n",
    "        else:\n",
    "            print(f\"Cannot reduce {product} inventory. Out of stock.\")   \n",
    "    return inventory"
   ]
  },
  {
   "cell_type": "code",
   "execution_count": 62,
   "id": "b250d7b9-c44b-4921-ba88-014404d3e15f",
   "metadata": {},
   "outputs": [
    {
     "name": "stdin",
     "output_type": "stream",
     "text": [
      "How many of this t-shirt are:  5\n",
      "How many of this mug are:  5\n",
      "How many of this hat are:  5\n",
      "How many of this book are:  5\n",
      "How many of this keychain are:  5\n"
     ]
    },
    {
     "name": "stdout",
     "output_type": "stream",
     "text": [
      "Inventory: {'t-shirt': 5, 'mug': 5, 'hat': 5, 'book': 5, 'keychain': 5}\n",
      "['t-shirt', 'mug', 'hat', 'book', 'keychain']\n"
     ]
    }
   ],
   "source": [
    "print (initialize_inventory(products))"
   ]
  },
  {
   "cell_type": "code",
   "execution_count": 64,
   "id": "195fe334-906e-45c9-814c-9e89e0644bf5",
   "metadata": {},
   "outputs": [
    {
     "name": "stdin",
     "output_type": "stream",
     "text": [
      "What 3 products do you want to order? ['t-shirt', 'mug', 'hat', 'book', 'keychain'] : mug,hat,book\n"
     ]
    },
    {
     "name": "stdout",
     "output_type": "stream",
     "text": [
      "The order is: ['mug', 'hat', 'book']\n"
     ]
    },
    {
     "name": "stdin",
     "output_type": "stream",
     "text": [
      "do you want to add another product? Yes/no:  no\n"
     ]
    },
    {
     "name": "stdout",
     "output_type": "stream",
     "text": [
      "The order is: ['mug', 'hat', 'book']\n",
      "['mug', 'hat', 'book']\n"
     ]
    }
   ],
   "source": [
    "print(get_customer_orders())"
   ]
  },
  {
   "cell_type": "code",
   "execution_count": 114,
   "id": "4c415dd4-e6df-49b1-a29c-08d772b88290",
   "metadata": {},
   "outputs": [
    {
     "name": "stdout",
     "output_type": "stream",
     "text": [
      "The order is: ['mug', 'hat', 'book', 'mug', 'hat', 'book', 'mug', 'hat', 'book', 'mug', 'hat', 'book', 'mug', 'hat', 'book', 'mug', 'hat', 'book']\n",
      "['t-shirt', 'mug', 'hat', 'book', 'keychain']\n"
     ]
    }
   ],
   "source": [
    "print(update_inventory(customer_orders, inventory))"
   ]
  },
  {
   "cell_type": "code",
   "execution_count": 126,
   "id": "53930cc7-5193-456c-86ac-4d77f78b0fa7",
   "metadata": {},
   "outputs": [
    {
     "name": "stdout",
     "output_type": "stream",
     "text": [
      "The total products ordered are: 18\n",
      "The percentage of this order on our stock: 360.0\n",
      "<function calculate_order_statistics at 0x11f5faca0>\n"
     ]
    }
   ],
   "source": [
    "\n",
    "order_statistics = calculate_order_statistics(order_statistics)\n",
    "\n",
    "def calculate_order_statistics(order_statistics):\n",
    "    #Total Products Ordered: The total number of products in the `customer_orders` set.\n",
    "    total_products_ordered = len(customer_orders)\n",
    "    print (\"The total products ordered are:\", total_products_ordered)\n",
    "    \n",
    "    #Percentage of Products Ordered: The percentage of products ordered compared to the total available products.\n",
    "    percentage_prod_ordered= (len(customer_orders)/len(products)) *100\n",
    "    print(\"The percentage of this order on our stock:\", percentage_prod_ordered)\n",
    "    return order_statistics\n",
    "\n",
    "print (order_statistics)"
   ]
  },
  {
   "cell_type": "code",
   "execution_count": 134,
   "id": "73901f1e-e433-481e-a738-897bf87e3f18",
   "metadata": {},
   "outputs": [],
   "source": [
    "def print_order_statistics(order_statistics):\n",
    "     #Order Status tuple\n",
    "    order_status = (total_products_ordered, percentage_prod_ordered)\n",
    "    print (\"Order Statistics:\" ,\n",
    "           \"Total Products Ordered:\", total_products_ordered,\n",
    "          \"Percentage of Products Ordered:\", percentage_prod_ordered)\n",
    "    return print_order_statistics"
   ]
  },
  {
   "cell_type": "code",
   "execution_count": 140,
   "id": "903c41f2-9414-4663-9e60-ff637359fbf4",
   "metadata": {},
   "outputs": [
    {
     "name": "stdout",
     "output_type": "stream",
     "text": [
      "Order Statistics: Total Products Ordered: 3 Percentage of Products Ordered: 60.0\n",
      "<function print_order_statistics at 0x11f5fb880>\n"
     ]
    }
   ],
   "source": [
    "print(print_order_statistics(order_statistics))"
   ]
  },
  {
   "cell_type": "code",
   "execution_count": 162,
   "id": "65d81e0a-6226-4d59-8825-d1d080681340",
   "metadata": {},
   "outputs": [],
   "source": [
    "def print_updated_inventory(inventory):\n",
    "    for item in customer_orders:\n",
    "        if inventory[item] > 0:\n",
    "           inventory[item] -= 1\n",
    "        else:\n",
    "            print(f\"Cannot reduce {product} inventory. Out of stock.\")   \n",
    "    return inventory\n"
   ]
  },
  {
   "cell_type": "code",
   "execution_count": 166,
   "id": "cd3e6b20-01e5-456c-8d01-1371eb7d5109",
   "metadata": {
    "scrolled": true
   },
   "outputs": [
    {
     "ename": "TypeError",
     "evalue": "list indices must be integers or slices, not str",
     "output_type": "error",
     "traceback": [
      "\u001b[0;31m---------------------------------------------------------------------------\u001b[0m",
      "\u001b[0;31mTypeError\u001b[0m                                 Traceback (most recent call last)",
      "Cell \u001b[0;32mIn[166], line 1\u001b[0m\n\u001b[0;32m----> 1\u001b[0m updated_inventory \u001b[38;5;241m=\u001b[39m print_updated_inventory(inventory)\n",
      "Cell \u001b[0;32mIn[162], line 3\u001b[0m, in \u001b[0;36mprint_updated_inventory\u001b[0;34m(inventory)\u001b[0m\n\u001b[1;32m      1\u001b[0m \u001b[38;5;28;01mdef\u001b[39;00m \u001b[38;5;21mprint_updated_inventory\u001b[39m(inventory):\n\u001b[1;32m      2\u001b[0m     \u001b[38;5;28;01mfor\u001b[39;00m item \u001b[38;5;129;01min\u001b[39;00m customer_orders:\n\u001b[0;32m----> 3\u001b[0m         \u001b[38;5;28;01mif\u001b[39;00m inventory[item] \u001b[38;5;241m>\u001b[39m \u001b[38;5;241m0\u001b[39m:\n\u001b[1;32m      4\u001b[0m            inventory[item] \u001b[38;5;241m-\u001b[39m\u001b[38;5;241m=\u001b[39m \u001b[38;5;241m1\u001b[39m\n\u001b[1;32m      5\u001b[0m         \u001b[38;5;28;01melse\u001b[39;00m:\n",
      "\u001b[0;31mTypeError\u001b[0m: list indices must be integers or slices, not str"
     ]
    }
   ],
   "source": [
    "updated_inventory = print_updated_inventory(inventory)"
   ]
  },
  {
   "cell_type": "code",
   "execution_count": null,
   "id": "1598910f-f449-431e-a8d3-90677b511234",
   "metadata": {},
   "outputs": [],
   "source": []
  }
 ],
 "metadata": {
  "kernelspec": {
   "display_name": "Python 3 (ipykernel)",
   "language": "python",
   "name": "python3"
  },
  "language_info": {
   "codemirror_mode": {
    "name": "ipython",
    "version": 3
   },
   "file_extension": ".py",
   "mimetype": "text/x-python",
   "name": "python",
   "nbconvert_exporter": "python",
   "pygments_lexer": "ipython3",
   "version": "3.11.7"
  }
 },
 "nbformat": 4,
 "nbformat_minor": 5
}
